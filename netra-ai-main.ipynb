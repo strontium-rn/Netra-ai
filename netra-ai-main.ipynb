{
 "cells": [
  {
   "cell_type": "code",
   "execution_count": 2,
   "id": "a0ab8ad3",
   "metadata": {
    "_cell_guid": "b1076dfc-b9ad-4769-8c92-a6c4dae69d19",
    "_uuid": "8f2839f25d086af736a60e9eeb907d3b93b6e0e5",
    "execution": {
     "iopub.execute_input": "2025-01-16T10:18:07.558892Z",
     "iopub.status.busy": "2025-01-16T10:18:07.558563Z",
     "iopub.status.idle": "2025-01-16T10:18:17.303076Z",
     "shell.execute_reply": "2025-01-16T10:18:17.302384Z"
    },
    "papermill": {
     "duration": 9.75458,
     "end_time": "2025-01-16T10:18:17.304550",
     "exception": false,
     "start_time": "2025-01-16T10:18:07.549970",
     "status": "completed"
    },
    "tags": []
   },
   "outputs": [
    {
     "ename": "ModuleNotFoundError",
     "evalue": "No module named 'pandas'",
     "output_type": "error",
     "traceback": [
      "\u001b[0;31m---------------------------------------------------------------------------\u001b[0m",
      "\u001b[0;31mModuleNotFoundError\u001b[0m                       Traceback (most recent call last)",
      "Cell \u001b[0;32mIn[2], line 3\u001b[0m\n\u001b[1;32m      1\u001b[0m \u001b[38;5;28;01mimport\u001b[39;00m\u001b[38;5;250m \u001b[39m\u001b[38;5;21;01mos\u001b[39;00m                                                             \u001b[38;5;66;03m#for interacting with os for files \u001b[39;00m\n\u001b[1;32m      2\u001b[0m \u001b[38;5;28;01mimport\u001b[39;00m\u001b[38;5;250m \u001b[39m\u001b[38;5;21;01mcv2\u001b[39;00m                                                            \u001b[38;5;66;03m#part of openCV for image processing tasks\u001b[39;00m\n\u001b[0;32m----> 3\u001b[0m \u001b[38;5;28;01mimport\u001b[39;00m\u001b[38;5;250m \u001b[39m\u001b[38;5;21;01mpandas\u001b[39;00m\u001b[38;5;250m \u001b[39m\u001b[38;5;28;01mas\u001b[39;00m\u001b[38;5;250m \u001b[39m\u001b[38;5;21;01mpd\u001b[39;00m                                                   \u001b[38;5;66;03m#handling and managing datas\u001b[39;00m\n\u001b[1;32m      4\u001b[0m \u001b[38;5;28;01mimport\u001b[39;00m\u001b[38;5;250m \u001b[39m\u001b[38;5;21;01mnumpy\u001b[39;00m\u001b[38;5;250m \u001b[39m\u001b[38;5;28;01mas\u001b[39;00m\u001b[38;5;250m \u001b[39m\u001b[38;5;21;01mnp\u001b[39;00m                                                    \u001b[38;5;66;03m#for numerical operations\u001b[39;00m\n\u001b[1;32m      5\u001b[0m \u001b[38;5;28;01mimport\u001b[39;00m\u001b[38;5;250m \u001b[39m\u001b[38;5;21;01mmatplotlib\u001b[39;00m\u001b[38;5;21;01m.\u001b[39;00m\u001b[38;5;21;01mpyplot\u001b[39;00m\u001b[38;5;250m \u001b[39m\u001b[38;5;28;01mas\u001b[39;00m\u001b[38;5;250m \u001b[39m\u001b[38;5;21;01mplt\u001b[39;00m                                       \u001b[38;5;66;03m#used to create visualizations\u001b[39;00m\n",
      "\u001b[0;31mModuleNotFoundError\u001b[0m: No module named 'pandas'"
     ]
    }
   ],
   "source": [
    "import os                                                             #for interacting with os for files \n",
    "import cv2                                                            #part of openCV for image processing tasks\n",
    "import pandas as pd                                                   #handling and managing datas\n",
    "import numpy as np                                                    #for numerical operations\n",
    "import matplotlib.pyplot as plt                                       #used to create visualizations\n",
    "import seaborn as sns                                                 #advance visulazation tools\n",
    "from sklearn.metrics import confusion_matrix, classification_report   #for evaluating ml models by generating metrics\n",
    "from sklearn.model_selection import train_test_split                  #splits the data for model evaluation and validation\n",
    "import tensorflow as tf                                               #deeplearning framework for creating and training neural networks\n",
    "from tensorflow.keras.models import Sequential                        #used to define a feed forward model by stacking layers sequentially\n",
    "from tensorflow.keras.layers import Dropout             #manipulates neurons in neural network\n",
    "from tensorflow.keras.metrics import Recall, Precision                #metrics to evaluate model performance\n",
    "from tensorflow.keras.preprocessing.image import ImageDataGenerator   #for agumentation\n",
    "from tensorflow.keras.optimizers import Adam                          #adjusts the learning rate during training\n",
    "from tensorflow.keras.applications import InceptionV3      #pretrained deeplearing models for transfer learning\n",
    "from tensorflow.keras.applications.efficientnet import preprocess_input\n",
    "from tensorflow.keras.layers import Input,concatenate,Dense, GlobalAveragePooling2D, Flatten                #for input layer and merging multiple layers\n",
    "from tensorflow.keras.models import Model, clone_model                            #enables builiding complex model, allowing more flexible network\n",
    "from tensorflow.keras.callbacks import EarlyStopping                  #monitors model performance and stops the training of model to prevent overfitting and saves time"
   ]
  },
  {
   "cell_type": "code",
   "execution_count": null,
   "id": "87751a52",
   "metadata": {
    "execution": {
     "iopub.execute_input": "2025-01-16T10:18:17.315858Z",
     "iopub.status.busy": "2025-01-16T10:18:17.315419Z",
     "iopub.status.idle": "2025-01-16T10:18:17.390206Z",
     "shell.execute_reply": "2025-01-16T10:18:17.389364Z"
    },
    "papermill": {
     "duration": 0.081383,
     "end_time": "2025-01-16T10:18:17.391577",
     "exception": false,
     "start_time": "2025-01-16T10:18:17.310194",
     "status": "completed"
    },
    "tags": []
   },
   "outputs": [],
   "source": [
    "df = pd.read_csv(\"/kaggle/input/ocular-disease-recognition-odir5k/full_df.csv\")"
   ]
  },
  {
   "cell_type": "code",
   "execution_count": null,
   "id": "92c87aeb",
   "metadata": {
    "execution": {
     "iopub.execute_input": "2025-01-16T10:18:17.402013Z",
     "iopub.status.busy": "2025-01-16T10:18:17.401801Z",
     "iopub.status.idle": "2025-01-16T10:18:17.420903Z",
     "shell.execute_reply": "2025-01-16T10:18:17.420224Z"
    },
    "papermill": {
     "duration": 0.025651,
     "end_time": "2025-01-16T10:18:17.422094",
     "exception": false,
     "start_time": "2025-01-16T10:18:17.396443",
     "status": "completed"
    },
    "tags": []
   },
   "outputs": [
    {
     "data": {
      "text/html": [
       "<div>\n",
       "<style scoped>\n",
       "    .dataframe tbody tr th:only-of-type {\n",
       "        vertical-align: middle;\n",
       "    }\n",
       "\n",
       "    .dataframe tbody tr th {\n",
       "        vertical-align: top;\n",
       "    }\n",
       "\n",
       "    .dataframe thead th {\n",
       "        text-align: right;\n",
       "    }\n",
       "</style>\n",
       "<table border=\"1\" class=\"dataframe\">\n",
       "  <thead>\n",
       "    <tr style=\"text-align: right;\">\n",
       "      <th></th>\n",
       "      <th>ID</th>\n",
       "      <th>Patient Age</th>\n",
       "      <th>Patient Sex</th>\n",
       "      <th>Left-Fundus</th>\n",
       "      <th>Right-Fundus</th>\n",
       "      <th>Left-Diagnostic Keywords</th>\n",
       "      <th>Right-Diagnostic Keywords</th>\n",
       "      <th>N</th>\n",
       "      <th>D</th>\n",
       "      <th>G</th>\n",
       "      <th>C</th>\n",
       "      <th>A</th>\n",
       "      <th>H</th>\n",
       "      <th>M</th>\n",
       "      <th>O</th>\n",
       "      <th>filepath</th>\n",
       "      <th>labels</th>\n",
       "      <th>target</th>\n",
       "      <th>filename</th>\n",
       "    </tr>\n",
       "  </thead>\n",
       "  <tbody>\n",
       "    <tr>\n",
       "      <th>0</th>\n",
       "      <td>0</td>\n",
       "      <td>69</td>\n",
       "      <td>Female</td>\n",
       "      <td>0_left.jpg</td>\n",
       "      <td>0_right.jpg</td>\n",
       "      <td>cataract</td>\n",
       "      <td>normal fundus</td>\n",
       "      <td>0</td>\n",
       "      <td>0</td>\n",
       "      <td>0</td>\n",
       "      <td>1</td>\n",
       "      <td>0</td>\n",
       "      <td>0</td>\n",
       "      <td>0</td>\n",
       "      <td>0</td>\n",
       "      <td>../input/ocular-disease-recognition-odir5k/ODI...</td>\n",
       "      <td>['N']</td>\n",
       "      <td>[1, 0, 0, 0, 0, 0, 0, 0]</td>\n",
       "      <td>0_right.jpg</td>\n",
       "    </tr>\n",
       "    <tr>\n",
       "      <th>1</th>\n",
       "      <td>1</td>\n",
       "      <td>57</td>\n",
       "      <td>Male</td>\n",
       "      <td>1_left.jpg</td>\n",
       "      <td>1_right.jpg</td>\n",
       "      <td>normal fundus</td>\n",
       "      <td>normal fundus</td>\n",
       "      <td>1</td>\n",
       "      <td>0</td>\n",
       "      <td>0</td>\n",
       "      <td>0</td>\n",
       "      <td>0</td>\n",
       "      <td>0</td>\n",
       "      <td>0</td>\n",
       "      <td>0</td>\n",
       "      <td>../input/ocular-disease-recognition-odir5k/ODI...</td>\n",
       "      <td>['N']</td>\n",
       "      <td>[1, 0, 0, 0, 0, 0, 0, 0]</td>\n",
       "      <td>1_right.jpg</td>\n",
       "    </tr>\n",
       "    <tr>\n",
       "      <th>2</th>\n",
       "      <td>2</td>\n",
       "      <td>42</td>\n",
       "      <td>Male</td>\n",
       "      <td>2_left.jpg</td>\n",
       "      <td>2_right.jpg</td>\n",
       "      <td>laser spot，moderate non proliferative retinopathy</td>\n",
       "      <td>moderate non proliferative retinopathy</td>\n",
       "      <td>0</td>\n",
       "      <td>1</td>\n",
       "      <td>0</td>\n",
       "      <td>0</td>\n",
       "      <td>0</td>\n",
       "      <td>0</td>\n",
       "      <td>0</td>\n",
       "      <td>1</td>\n",
       "      <td>../input/ocular-disease-recognition-odir5k/ODI...</td>\n",
       "      <td>['D']</td>\n",
       "      <td>[0, 1, 0, 0, 0, 0, 0, 0]</td>\n",
       "      <td>2_right.jpg</td>\n",
       "    </tr>\n",
       "    <tr>\n",
       "      <th>3</th>\n",
       "      <td>4</td>\n",
       "      <td>53</td>\n",
       "      <td>Male</td>\n",
       "      <td>4_left.jpg</td>\n",
       "      <td>4_right.jpg</td>\n",
       "      <td>macular epiretinal membrane</td>\n",
       "      <td>mild nonproliferative retinopathy</td>\n",
       "      <td>0</td>\n",
       "      <td>1</td>\n",
       "      <td>0</td>\n",
       "      <td>0</td>\n",
       "      <td>0</td>\n",
       "      <td>0</td>\n",
       "      <td>0</td>\n",
       "      <td>1</td>\n",
       "      <td>../input/ocular-disease-recognition-odir5k/ODI...</td>\n",
       "      <td>['D']</td>\n",
       "      <td>[0, 1, 0, 0, 0, 0, 0, 0]</td>\n",
       "      <td>4_right.jpg</td>\n",
       "    </tr>\n",
       "    <tr>\n",
       "      <th>4</th>\n",
       "      <td>5</td>\n",
       "      <td>50</td>\n",
       "      <td>Female</td>\n",
       "      <td>5_left.jpg</td>\n",
       "      <td>5_right.jpg</td>\n",
       "      <td>moderate non proliferative retinopathy</td>\n",
       "      <td>moderate non proliferative retinopathy</td>\n",
       "      <td>0</td>\n",
       "      <td>1</td>\n",
       "      <td>0</td>\n",
       "      <td>0</td>\n",
       "      <td>0</td>\n",
       "      <td>0</td>\n",
       "      <td>0</td>\n",
       "      <td>0</td>\n",
       "      <td>../input/ocular-disease-recognition-odir5k/ODI...</td>\n",
       "      <td>['D']</td>\n",
       "      <td>[0, 1, 0, 0, 0, 0, 0, 0]</td>\n",
       "      <td>5_right.jpg</td>\n",
       "    </tr>\n",
       "  </tbody>\n",
       "</table>\n",
       "</div>"
      ],
      "text/plain": [
       "   ID  Patient Age Patient Sex Left-Fundus Right-Fundus  \\\n",
       "0   0           69      Female  0_left.jpg  0_right.jpg   \n",
       "1   1           57        Male  1_left.jpg  1_right.jpg   \n",
       "2   2           42        Male  2_left.jpg  2_right.jpg   \n",
       "3   4           53        Male  4_left.jpg  4_right.jpg   \n",
       "4   5           50      Female  5_left.jpg  5_right.jpg   \n",
       "\n",
       "                            Left-Diagnostic Keywords  \\\n",
       "0                                           cataract   \n",
       "1                                      normal fundus   \n",
       "2  laser spot，moderate non proliferative retinopathy   \n",
       "3                        macular epiretinal membrane   \n",
       "4             moderate non proliferative retinopathy   \n",
       "\n",
       "                Right-Diagnostic Keywords  N  D  G  C  A  H  M  O  \\\n",
       "0                           normal fundus  0  0  0  1  0  0  0  0   \n",
       "1                           normal fundus  1  0  0  0  0  0  0  0   \n",
       "2  moderate non proliferative retinopathy  0  1  0  0  0  0  0  1   \n",
       "3       mild nonproliferative retinopathy  0  1  0  0  0  0  0  1   \n",
       "4  moderate non proliferative retinopathy  0  1  0  0  0  0  0  0   \n",
       "\n",
       "                                            filepath labels  \\\n",
       "0  ../input/ocular-disease-recognition-odir5k/ODI...  ['N']   \n",
       "1  ../input/ocular-disease-recognition-odir5k/ODI...  ['N']   \n",
       "2  ../input/ocular-disease-recognition-odir5k/ODI...  ['D']   \n",
       "3  ../input/ocular-disease-recognition-odir5k/ODI...  ['D']   \n",
       "4  ../input/ocular-disease-recognition-odir5k/ODI...  ['D']   \n",
       "\n",
       "                     target     filename  \n",
       "0  [1, 0, 0, 0, 0, 0, 0, 0]  0_right.jpg  \n",
       "1  [1, 0, 0, 0, 0, 0, 0, 0]  1_right.jpg  \n",
       "2  [0, 1, 0, 0, 0, 0, 0, 0]  2_right.jpg  \n",
       "3  [0, 1, 0, 0, 0, 0, 0, 0]  4_right.jpg  \n",
       "4  [0, 1, 0, 0, 0, 0, 0, 0]  5_right.jpg  "
      ]
     },
     "execution_count": 3,
     "metadata": {},
     "output_type": "execute_result"
    }
   ],
   "source": [
    "df.head()"
   ]
  },
  {
   "cell_type": "code",
   "execution_count": null,
   "id": "429f7a04",
   "metadata": {
    "execution": {
     "iopub.execute_input": "2025-01-16T10:18:17.433096Z",
     "iopub.status.busy": "2025-01-16T10:18:17.432900Z",
     "iopub.status.idle": "2025-01-16T10:18:17.454505Z",
     "shell.execute_reply": "2025-01-16T10:18:17.453644Z"
    },
    "papermill": {
     "duration": 0.02851,
     "end_time": "2025-01-16T10:18:17.455790",
     "exception": false,
     "start_time": "2025-01-16T10:18:17.427280",
     "status": "completed"
    },
    "tags": []
   },
   "outputs": [
    {
     "name": "stdout",
     "output_type": "stream",
     "text": [
      "<class 'pandas.core.frame.DataFrame'>\n",
      "RangeIndex: 6392 entries, 0 to 6391\n",
      "Data columns (total 19 columns):\n",
      " #   Column                     Non-Null Count  Dtype \n",
      "---  ------                     --------------  ----- \n",
      " 0   ID                         6392 non-null   int64 \n",
      " 1   Patient Age                6392 non-null   int64 \n",
      " 2   Patient Sex                6392 non-null   object\n",
      " 3   Left-Fundus                6392 non-null   object\n",
      " 4   Right-Fundus               6392 non-null   object\n",
      " 5   Left-Diagnostic Keywords   6392 non-null   object\n",
      " 6   Right-Diagnostic Keywords  6392 non-null   object\n",
      " 7   N                          6392 non-null   int64 \n",
      " 8   D                          6392 non-null   int64 \n",
      " 9   G                          6392 non-null   int64 \n",
      " 10  C                          6392 non-null   int64 \n",
      " 11  A                          6392 non-null   int64 \n",
      " 12  H                          6392 non-null   int64 \n",
      " 13  M                          6392 non-null   int64 \n",
      " 14  O                          6392 non-null   int64 \n",
      " 15  filepath                   6392 non-null   object\n",
      " 16  labels                     6392 non-null   object\n",
      " 17  target                     6392 non-null   object\n",
      " 18  filename                   6392 non-null   object\n",
      "dtypes: int64(10), object(9)\n",
      "memory usage: 948.9+ KB\n"
     ]
    }
   ],
   "source": [
    "df.info()"
   ]
  },
  {
   "cell_type": "markdown",
   "id": "7363ad83",
   "metadata": {
    "papermill": {
     "duration": 0.004918,
     "end_time": "2025-01-16T10:18:17.466467",
     "exception": false,
     "start_time": "2025-01-16T10:18:17.461549",
     "status": "completed"
    },
    "tags": []
   },
   "source": [
    "Normal (N),\n",
    "Diabetes (D),\n",
    "Glaucoma (G),\n",
    "Cataract (C),\n",
    "Age related Macular Degeneration (A),\n",
    "Hypertension (H),\n",
    "Pathological Myopia (M),\n",
    "Other diseases/abnormalities (O)"
   ]
  },
  {
   "cell_type": "code",
   "execution_count": null,
   "id": "f919fbc3",
   "metadata": {
    "execution": {
     "iopub.execute_input": "2025-01-16T10:18:17.477361Z",
     "iopub.status.busy": "2025-01-16T10:18:17.477162Z",
     "iopub.status.idle": "2025-01-16T10:18:17.504784Z",
     "shell.execute_reply": "2025-01-16T10:18:17.504076Z"
    },
    "papermill": {
     "duration": 0.034192,
     "end_time": "2025-01-16T10:18:17.505976",
     "exception": false,
     "start_time": "2025-01-16T10:18:17.471784",
     "status": "completed"
    },
    "tags": []
   },
   "outputs": [
    {
     "data": {
      "text/html": [
       "<div>\n",
       "<style scoped>\n",
       "    .dataframe tbody tr th:only-of-type {\n",
       "        vertical-align: middle;\n",
       "    }\n",
       "\n",
       "    .dataframe tbody tr th {\n",
       "        vertical-align: top;\n",
       "    }\n",
       "\n",
       "    .dataframe thead th {\n",
       "        text-align: right;\n",
       "    }\n",
       "</style>\n",
       "<table border=\"1\" class=\"dataframe\">\n",
       "  <thead>\n",
       "    <tr style=\"text-align: right;\">\n",
       "      <th></th>\n",
       "      <th>ID</th>\n",
       "      <th>Patient Age</th>\n",
       "      <th>N</th>\n",
       "      <th>D</th>\n",
       "      <th>G</th>\n",
       "      <th>C</th>\n",
       "      <th>A</th>\n",
       "      <th>H</th>\n",
       "      <th>M</th>\n",
       "      <th>O</th>\n",
       "    </tr>\n",
       "  </thead>\n",
       "  <tbody>\n",
       "    <tr>\n",
       "      <th>count</th>\n",
       "      <td>6392.000000</td>\n",
       "      <td>6392.000000</td>\n",
       "      <td>6392.000000</td>\n",
       "      <td>6392.000000</td>\n",
       "      <td>6392.000000</td>\n",
       "      <td>6392.000000</td>\n",
       "      <td>6392.000000</td>\n",
       "      <td>6392.000000</td>\n",
       "      <td>6392.000000</td>\n",
       "      <td>6392.000000</td>\n",
       "    </tr>\n",
       "    <tr>\n",
       "      <th>mean</th>\n",
       "      <td>2271.150814</td>\n",
       "      <td>57.857947</td>\n",
       "      <td>0.328692</td>\n",
       "      <td>0.332134</td>\n",
       "      <td>0.062109</td>\n",
       "      <td>0.062891</td>\n",
       "      <td>0.049906</td>\n",
       "      <td>0.031758</td>\n",
       "      <td>0.047872</td>\n",
       "      <td>0.248436</td>\n",
       "    </tr>\n",
       "    <tr>\n",
       "      <th>std</th>\n",
       "      <td>1417.559018</td>\n",
       "      <td>11.727737</td>\n",
       "      <td>0.469775</td>\n",
       "      <td>0.471016</td>\n",
       "      <td>0.241372</td>\n",
       "      <td>0.242786</td>\n",
       "      <td>0.217768</td>\n",
       "      <td>0.175370</td>\n",
       "      <td>0.213513</td>\n",
       "      <td>0.432139</td>\n",
       "    </tr>\n",
       "    <tr>\n",
       "      <th>min</th>\n",
       "      <td>0.000000</td>\n",
       "      <td>1.000000</td>\n",
       "      <td>0.000000</td>\n",
       "      <td>0.000000</td>\n",
       "      <td>0.000000</td>\n",
       "      <td>0.000000</td>\n",
       "      <td>0.000000</td>\n",
       "      <td>0.000000</td>\n",
       "      <td>0.000000</td>\n",
       "      <td>0.000000</td>\n",
       "    </tr>\n",
       "    <tr>\n",
       "      <th>25%</th>\n",
       "      <td>920.750000</td>\n",
       "      <td>51.000000</td>\n",
       "      <td>0.000000</td>\n",
       "      <td>0.000000</td>\n",
       "      <td>0.000000</td>\n",
       "      <td>0.000000</td>\n",
       "      <td>0.000000</td>\n",
       "      <td>0.000000</td>\n",
       "      <td>0.000000</td>\n",
       "      <td>0.000000</td>\n",
       "    </tr>\n",
       "    <tr>\n",
       "      <th>50%</th>\n",
       "      <td>2419.500000</td>\n",
       "      <td>59.000000</td>\n",
       "      <td>0.000000</td>\n",
       "      <td>0.000000</td>\n",
       "      <td>0.000000</td>\n",
       "      <td>0.000000</td>\n",
       "      <td>0.000000</td>\n",
       "      <td>0.000000</td>\n",
       "      <td>0.000000</td>\n",
       "      <td>0.000000</td>\n",
       "    </tr>\n",
       "    <tr>\n",
       "      <th>75%</th>\n",
       "      <td>3294.000000</td>\n",
       "      <td>66.000000</td>\n",
       "      <td>1.000000</td>\n",
       "      <td>1.000000</td>\n",
       "      <td>0.000000</td>\n",
       "      <td>0.000000</td>\n",
       "      <td>0.000000</td>\n",
       "      <td>0.000000</td>\n",
       "      <td>0.000000</td>\n",
       "      <td>0.000000</td>\n",
       "    </tr>\n",
       "    <tr>\n",
       "      <th>max</th>\n",
       "      <td>4784.000000</td>\n",
       "      <td>91.000000</td>\n",
       "      <td>1.000000</td>\n",
       "      <td>1.000000</td>\n",
       "      <td>1.000000</td>\n",
       "      <td>1.000000</td>\n",
       "      <td>1.000000</td>\n",
       "      <td>1.000000</td>\n",
       "      <td>1.000000</td>\n",
       "      <td>1.000000</td>\n",
       "    </tr>\n",
       "  </tbody>\n",
       "</table>\n",
       "</div>"
      ],
      "text/plain": [
       "                ID  Patient Age            N            D            G  \\\n",
       "count  6392.000000  6392.000000  6392.000000  6392.000000  6392.000000   \n",
       "mean   2271.150814    57.857947     0.328692     0.332134     0.062109   \n",
       "std    1417.559018    11.727737     0.469775     0.471016     0.241372   \n",
       "min       0.000000     1.000000     0.000000     0.000000     0.000000   \n",
       "25%     920.750000    51.000000     0.000000     0.000000     0.000000   \n",
       "50%    2419.500000    59.000000     0.000000     0.000000     0.000000   \n",
       "75%    3294.000000    66.000000     1.000000     1.000000     0.000000   \n",
       "max    4784.000000    91.000000     1.000000     1.000000     1.000000   \n",
       "\n",
       "                 C            A            H            M            O  \n",
       "count  6392.000000  6392.000000  6392.000000  6392.000000  6392.000000  \n",
       "mean      0.062891     0.049906     0.031758     0.047872     0.248436  \n",
       "std       0.242786     0.217768     0.175370     0.213513     0.432139  \n",
       "min       0.000000     0.000000     0.000000     0.000000     0.000000  \n",
       "25%       0.000000     0.000000     0.000000     0.000000     0.000000  \n",
       "50%       0.000000     0.000000     0.000000     0.000000     0.000000  \n",
       "75%       0.000000     0.000000     0.000000     0.000000     0.000000  \n",
       "max       1.000000     1.000000     1.000000     1.000000     1.000000  "
      ]
     },
     "execution_count": 5,
     "metadata": {},
     "output_type": "execute_result"
    }
   ],
   "source": [
    "df.describe()"
   ]
  },
  {
   "cell_type": "code",
   "execution_count": null,
   "id": "1d975df6",
   "metadata": {
    "execution": {
     "iopub.execute_input": "2025-01-16T10:18:17.517883Z",
     "iopub.status.busy": "2025-01-16T10:18:17.517663Z",
     "iopub.status.idle": "2025-01-16T10:18:17.522146Z",
     "shell.execute_reply": "2025-01-16T10:18:17.521360Z"
    },
    "papermill": {
     "duration": 0.011677,
     "end_time": "2025-01-16T10:18:17.523279",
     "exception": false,
     "start_time": "2025-01-16T10:18:17.511602",
     "status": "completed"
    },
    "tags": []
   },
   "outputs": [
    {
     "data": {
      "text/plain": [
       "Index(['ID', 'Patient Age', 'Patient Sex', 'Left-Fundus', 'Right-Fundus',\n",
       "       'Left-Diagnostic Keywords', 'Right-Diagnostic Keywords', 'N', 'D', 'G',\n",
       "       'C', 'A', 'H', 'M', 'O', 'filepath', 'labels', 'target', 'filename'],\n",
       "      dtype='object')"
      ]
     },
     "execution_count": 6,
     "metadata": {},
     "output_type": "execute_result"
    }
   ],
   "source": [
    "df.columns"
   ]
  },
  {
   "cell_type": "code",
   "execution_count": null,
   "id": "20dcbf52",
   "metadata": {
    "execution": {
     "iopub.execute_input": "2025-01-16T10:18:17.534739Z",
     "iopub.status.busy": "2025-01-16T10:18:17.534519Z",
     "iopub.status.idle": "2025-01-16T10:18:17.558910Z",
     "shell.execute_reply": "2025-01-16T10:18:17.558113Z"
    },
    "papermill": {
     "duration": 0.031336,
     "end_time": "2025-01-16T10:18:17.560218",
     "exception": false,
     "start_time": "2025-01-16T10:18:17.528882",
     "status": "completed"
    },
    "tags": []
   },
   "outputs": [
    {
     "data": {
      "text/html": [
       "<div>\n",
       "<style scoped>\n",
       "    .dataframe tbody tr th:only-of-type {\n",
       "        vertical-align: middle;\n",
       "    }\n",
       "\n",
       "    .dataframe tbody tr th {\n",
       "        vertical-align: top;\n",
       "    }\n",
       "\n",
       "    .dataframe thead th {\n",
       "        text-align: right;\n",
       "    }\n",
       "</style>\n",
       "<table border=\"1\" class=\"dataframe\">\n",
       "  <thead>\n",
       "    <tr style=\"text-align: right;\">\n",
       "      <th></th>\n",
       "      <th>ID</th>\n",
       "      <th>Patient Age</th>\n",
       "      <th>N</th>\n",
       "      <th>D</th>\n",
       "      <th>G</th>\n",
       "      <th>C</th>\n",
       "      <th>A</th>\n",
       "      <th>H</th>\n",
       "      <th>M</th>\n",
       "      <th>O</th>\n",
       "    </tr>\n",
       "  </thead>\n",
       "  <tbody>\n",
       "    <tr>\n",
       "      <th>count</th>\n",
       "      <td>6392.000000</td>\n",
       "      <td>6392.000000</td>\n",
       "      <td>6392.000000</td>\n",
       "      <td>6392.000000</td>\n",
       "      <td>6392.000000</td>\n",
       "      <td>6392.000000</td>\n",
       "      <td>6392.000000</td>\n",
       "      <td>6392.000000</td>\n",
       "      <td>6392.000000</td>\n",
       "      <td>6392.000000</td>\n",
       "    </tr>\n",
       "    <tr>\n",
       "      <th>mean</th>\n",
       "      <td>2271.150814</td>\n",
       "      <td>57.857947</td>\n",
       "      <td>0.328692</td>\n",
       "      <td>0.332134</td>\n",
       "      <td>0.062109</td>\n",
       "      <td>0.062891</td>\n",
       "      <td>0.049906</td>\n",
       "      <td>0.031758</td>\n",
       "      <td>0.047872</td>\n",
       "      <td>0.248436</td>\n",
       "    </tr>\n",
       "    <tr>\n",
       "      <th>std</th>\n",
       "      <td>1417.559018</td>\n",
       "      <td>11.727737</td>\n",
       "      <td>0.469775</td>\n",
       "      <td>0.471016</td>\n",
       "      <td>0.241372</td>\n",
       "      <td>0.242786</td>\n",
       "      <td>0.217768</td>\n",
       "      <td>0.175370</td>\n",
       "      <td>0.213513</td>\n",
       "      <td>0.432139</td>\n",
       "    </tr>\n",
       "    <tr>\n",
       "      <th>min</th>\n",
       "      <td>0.000000</td>\n",
       "      <td>1.000000</td>\n",
       "      <td>0.000000</td>\n",
       "      <td>0.000000</td>\n",
       "      <td>0.000000</td>\n",
       "      <td>0.000000</td>\n",
       "      <td>0.000000</td>\n",
       "      <td>0.000000</td>\n",
       "      <td>0.000000</td>\n",
       "      <td>0.000000</td>\n",
       "    </tr>\n",
       "    <tr>\n",
       "      <th>25%</th>\n",
       "      <td>920.750000</td>\n",
       "      <td>51.000000</td>\n",
       "      <td>0.000000</td>\n",
       "      <td>0.000000</td>\n",
       "      <td>0.000000</td>\n",
       "      <td>0.000000</td>\n",
       "      <td>0.000000</td>\n",
       "      <td>0.000000</td>\n",
       "      <td>0.000000</td>\n",
       "      <td>0.000000</td>\n",
       "    </tr>\n",
       "    <tr>\n",
       "      <th>50%</th>\n",
       "      <td>2419.500000</td>\n",
       "      <td>59.000000</td>\n",
       "      <td>0.000000</td>\n",
       "      <td>0.000000</td>\n",
       "      <td>0.000000</td>\n",
       "      <td>0.000000</td>\n",
       "      <td>0.000000</td>\n",
       "      <td>0.000000</td>\n",
       "      <td>0.000000</td>\n",
       "      <td>0.000000</td>\n",
       "    </tr>\n",
       "    <tr>\n",
       "      <th>75%</th>\n",
       "      <td>3294.000000</td>\n",
       "      <td>66.000000</td>\n",
       "      <td>1.000000</td>\n",
       "      <td>1.000000</td>\n",
       "      <td>0.000000</td>\n",
       "      <td>0.000000</td>\n",
       "      <td>0.000000</td>\n",
       "      <td>0.000000</td>\n",
       "      <td>0.000000</td>\n",
       "      <td>0.000000</td>\n",
       "    </tr>\n",
       "    <tr>\n",
       "      <th>max</th>\n",
       "      <td>4784.000000</td>\n",
       "      <td>91.000000</td>\n",
       "      <td>1.000000</td>\n",
       "      <td>1.000000</td>\n",
       "      <td>1.000000</td>\n",
       "      <td>1.000000</td>\n",
       "      <td>1.000000</td>\n",
       "      <td>1.000000</td>\n",
       "      <td>1.000000</td>\n",
       "      <td>1.000000</td>\n",
       "    </tr>\n",
       "  </tbody>\n",
       "</table>\n",
       "</div>"
      ],
      "text/plain": [
       "                ID  Patient Age            N            D            G  \\\n",
       "count  6392.000000  6392.000000  6392.000000  6392.000000  6392.000000   \n",
       "mean   2271.150814    57.857947     0.328692     0.332134     0.062109   \n",
       "std    1417.559018    11.727737     0.469775     0.471016     0.241372   \n",
       "min       0.000000     1.000000     0.000000     0.000000     0.000000   \n",
       "25%     920.750000    51.000000     0.000000     0.000000     0.000000   \n",
       "50%    2419.500000    59.000000     0.000000     0.000000     0.000000   \n",
       "75%    3294.000000    66.000000     1.000000     1.000000     0.000000   \n",
       "max    4784.000000    91.000000     1.000000     1.000000     1.000000   \n",
       "\n",
       "                 C            A            H            M            O  \n",
       "count  6392.000000  6392.000000  6392.000000  6392.000000  6392.000000  \n",
       "mean      0.062891     0.049906     0.031758     0.047872     0.248436  \n",
       "std       0.242786     0.217768     0.175370     0.213513     0.432139  \n",
       "min       0.000000     0.000000     0.000000     0.000000     0.000000  \n",
       "25%       0.000000     0.000000     0.000000     0.000000     0.000000  \n",
       "50%       0.000000     0.000000     0.000000     0.000000     0.000000  \n",
       "75%       0.000000     0.000000     0.000000     0.000000     0.000000  \n",
       "max       1.000000     1.000000     1.000000     1.000000     1.000000  "
      ]
     },
     "execution_count": 7,
     "metadata": {},
     "output_type": "execute_result"
    }
   ],
   "source": [
    "df.describe()"
   ]
  },
  {
   "cell_type": "code",
   "execution_count": null,
   "id": "79e13f13",
   "metadata": {
    "execution": {
     "iopub.execute_input": "2025-01-16T10:18:17.572361Z",
     "iopub.status.busy": "2025-01-16T10:18:17.572132Z",
     "iopub.status.idle": "2025-01-16T10:18:18.262852Z",
     "shell.execute_reply": "2025-01-16T10:18:18.262037Z"
    },
    "papermill": {
     "duration": 0.698147,
     "end_time": "2025-01-16T10:18:18.264154",
     "exception": false,
     "start_time": "2025-01-16T10:18:17.566007",
     "status": "completed"
    },
    "tags": []
   },
   "outputs": [
    {
     "data": {
      "text/plain": [
       "<Axes: xlabel='labels', ylabel='Patient Age'>"
      ]
     },
     "execution_count": 8,
     "metadata": {},
     "output_type": "execute_result"
    },
    {
     "data": {
      "image/png": "[encoded data removed]",
      "text/plain": [
       "<Figure size 640x480 with 1 Axes>"
      ]
     },
     "metadata": {},
     "output_type": "display_data"
    }
   ],
   "source": [
    "sns.barplot(data=df, x=\"labels\", y=\"Patient Age\", hue=\"Patient Sex\")"
   ]
  },
  {
   "cell_type": "code",
   "execution_count": null,
   "id": "3d11654a",
   "metadata": {
    "execution": {
     "iopub.execute_input": "2025-01-16T10:18:18.277291Z",
     "iopub.status.busy": "2025-01-16T10:18:18.277057Z",
     "iopub.status.idle": "2025-01-16T10:18:18.282701Z",
     "shell.execute_reply": "2025-01-16T10:18:18.281944Z"
    },
    "papermill": {
     "duration": 0.013413,
     "end_time": "2025-01-16T10:18:18.283997",
     "exception": false,
     "start_time": "2025-01-16T10:18:18.270584",
     "status": "completed"
    },
    "tags": []
   },
   "outputs": [],
   "source": [
    "if 'ID' in df.columns:\n",
    "    df = df.drop('ID', axis=1)"
   ]
  },
  {
   "cell_type": "code",
   "execution_count": null,
   "id": "6140d192",
   "metadata": {
    "execution": {
     "iopub.execute_input": "2025-01-16T10:18:18.297074Z",
     "iopub.status.busy": "2025-01-16T10:18:18.296856Z",
     "iopub.status.idle": "2025-01-16T10:18:18.301291Z",
     "shell.execute_reply": "2025-01-16T10:18:18.300544Z"
    },
    "papermill": {
     "duration": 0.011977,
     "end_time": "2025-01-16T10:18:18.302448",
     "exception": false,
     "start_time": "2025-01-16T10:18:18.290471",
     "status": "completed"
    },
    "tags": []
   },
   "outputs": [
    {
     "data": {
      "text/plain": [
       "Index(['Patient Age', 'Patient Sex', 'Left-Fundus', 'Right-Fundus',\n",
       "       'Left-Diagnostic Keywords', 'Right-Diagnostic Keywords', 'N', 'D', 'G',\n",
       "       'C', 'A', 'H', 'M', 'O', 'filepath', 'labels', 'target', 'filename'],\n",
       "      dtype='object')"
      ]
     },
     "execution_count": 10,
     "metadata": {},
     "output_type": "execute_result"
    }
   ],
   "source": [
    "df.columns"
   ]
  },
  {
   "cell_type": "code",
   "execution_count": null,
   "id": "1b9673da",
   "metadata": {
    "execution": {
     "iopub.execute_input": "2025-01-16T10:18:18.315340Z",
     "iopub.status.busy": "2025-01-16T10:18:18.315124Z",
     "iopub.status.idle": "2025-01-16T10:18:18.320975Z",
     "shell.execute_reply": "2025-01-16T10:18:18.320210Z"
    },
    "papermill": {
     "duration": 0.013743,
     "end_time": "2025-01-16T10:18:18.322151",
     "exception": false,
     "start_time": "2025-01-16T10:18:18.308408",
     "status": "completed"
    },
    "tags": []
   },
   "outputs": [
    {
     "data": {
      "text/plain": [
       "Patient Sex\n",
       "Male      3424\n",
       "Female    2968\n",
       "Name: count, dtype: int64"
      ]
     },
     "execution_count": 11,
     "metadata": {},
     "output_type": "execute_result"
    }
   ],
   "source": [
    "df['Patient Sex'].value_counts()"
   ]
  },
  {
   "cell_type": "code",
   "execution_count": null,
   "id": "5f1aabb3",
   "metadata": {
    "execution": {
     "iopub.execute_input": "2025-01-16T10:18:18.335222Z",
     "iopub.status.busy": "2025-01-16T10:18:18.335015Z",
     "iopub.status.idle": "2025-01-16T10:18:18.634315Z",
     "shell.execute_reply": "2025-01-16T10:18:18.633382Z"
    },
    "papermill": {
     "duration": 0.307726,
     "end_time": "2025-01-16T10:18:18.636099",
     "exception": false,
     "start_time": "2025-01-16T10:18:18.328373",
     "status": "completed"
    },
    "tags": []
   },
   "outputs": [
    {
     "data": {
      "image/png": "[encoded data removed]",
      "text/plain": [
       "<Figure size 600x600 with 1 Axes>"
      ]
     },
     "metadata": {},
     "output_type": "display_data"
    }
   ],
   "source": [
    "import warnings\n",
    "\n",
    "# Suppress specific warning\n",
    "with warnings.catch_warnings():\n",
    "    warnings.simplefilter(\"ignore\", category=FutureWarning)\n",
    "    plt.figure(figsize=(6, 6))\n",
    "    sns.histplot(data=df, x=\"Patient Age\")\n"
   ]
  },
  {
   "cell_type": "code",
   "execution_count": null,
   "id": "960da129",
   "metadata": {
    "execution": {
     "iopub.execute_input": "2025-01-16T10:18:18.651015Z",
     "iopub.status.busy": "2025-01-16T10:18:18.650780Z",
     "iopub.status.idle": "2025-01-16T10:18:18.895949Z",
     "shell.execute_reply": "2025-01-16T10:18:18.894852Z"
    },
    "papermill": {
     "duration": 0.25532,
     "end_time": "2025-01-16T10:18:18.898933",
     "exception": false,
     "start_time": "2025-01-16T10:18:18.643613",
     "status": "completed"
    },
    "tags": []
   },
   "outputs": [
    {
     "data": {
      "text/plain": [
       "([<matplotlib.patches.Wedge at 0x7fa6d43962f0>,\n",
       "  <matplotlib.patches.Wedge at 0x7fa6d4396200>,\n",
       "  <matplotlib.patches.Wedge at 0x7fa6d43972b0>,\n",
       "  <matplotlib.patches.Wedge at 0x7fa6d4397b80>,\n",
       "  <matplotlib.patches.Wedge at 0x7fa6d43d0490>,\n",
       "  <matplotlib.patches.Wedge at 0x7fa6d43d0d60>,\n",
       "  <matplotlib.patches.Wedge at 0x7fa6d43d1630>,\n",
       "  <matplotlib.patches.Wedge at 0x7fa6d43d1f00>],\n",
       " [Text(0.2055101877331841, 1.2836532096862734, 'Normal'),\n",
       "  Text(-1.0594468214361001, -0.5419155215981034, 'Diabetes'),\n",
       "  Text(0.04432008452473661, -1.0991067873995322, 'Glaucoma'),\n",
       "  Text(0.5582506611218526, -0.9478165430910218, 'Cataract'),\n",
       "  Text(0.8011544593128657, -0.7537582718107378, 'Age related Macular Degeneration'),\n",
       "  Text(0.9733436509785615, -0.5124472042071498, 'Hypertension'),\n",
       "  Text(1.068511927516186, -0.2613087460374127, 'Pathological Myopia'),\n",
       "  Text(1.0978239573964101, -0.0691560450465866, 'Other diseases/abnormalities')],\n",
       " [Text(0.1264678078358056, 0.7899404367300144, '44.9%'),\n",
       "  Text(-0.614301098143621, -0.3142199242879759, '25.2%'),\n",
       "  Text(0.024174591558947238, -0.5995127931270176, '11.1%'),\n",
       "  Text(0.30450036061191954, -0.5169908416860118, '4.6%'),\n",
       "  Text(0.4369933414433812, -0.41114087553312967, '4.4%'),\n",
       "  Text(0.5309147187155789, -0.27951665684026356, '4.2%'),\n",
       "  Text(0.5828246877361014, -0.1425320432931342, '3.6%'),\n",
       "  Text(0.598813067670769, -0.037721479116319956, '2.0%')])"
      ]
     },
     "execution_count": 13,
     "metadata": {},
     "output_type": "execute_result"
    },
    {
     "data": {
      "image/png": "[encoded data removed]",
      "text/plain": [
       "<Figure size 600x600 with 1 Axes>"
      ]
     },
     "metadata": {},
     "output_type": "display_data"
    }
   ],
   "source": [
    "plt.figure(figsize=(6,6))\n",
    "plt.pie(df['labels'].value_counts(), autopct=\"%0.1F%%\",\n",
    "       labels=['Normal','Diabetes','Glaucoma','Cataract','Age related Macular Degeneration','Hypertension',\n",
    "                'Pathological Myopia','Other diseases/abnormalities'],\n",
    "       shadow=True, explode=[0.2, 0.09, 0,0,0,0,0,0])"
   ]
  },
  {
   "cell_type": "code",
   "execution_count": null,
   "id": "56f3e3af",
   "metadata": {
    "execution": {
     "iopub.execute_input": "2025-01-16T10:18:18.936043Z",
     "iopub.status.busy": "2025-01-16T10:18:18.935842Z",
     "iopub.status.idle": "2025-01-16T10:18:19.116191Z",
     "shell.execute_reply": "2025-01-16T10:18:19.115509Z"
    },
    "papermill": {
     "duration": 0.196972,
     "end_time": "2025-01-16T10:18:19.117384",
     "exception": false,
     "start_time": "2025-01-16T10:18:18.920412",
     "status": "completed"
    },
    "tags": []
   },
   "outputs": [
    {
     "data": {
      "image/png": "[encoded data removed]",
      "text/plain": [
       "<Figure size 600x600 with 1 Axes>"
      ]
     },
     "metadata": {},
     "output_type": "display_data"
    }
   ],
   "source": [
    "sex_counts = df['Patient Sex'].value_counts().reset_index()\n",
    "\n",
    "sex_counts.columns = ['Sex', 'Count']\n",
    "\n",
    "plt.figure(figsize=(6,6))\n",
    "sns.barplot(x='Sex', y='Count', data=sex_counts, color='r', width=0.5)\n",
    "plt.show()"
   ]
  },
  {
   "cell_type": "code",
   "execution_count": null,
   "id": "05a78194",
   "metadata": {
    "execution": {
     "iopub.execute_input": "2025-01-16T10:18:19.134741Z",
     "iopub.status.busy": "2025-01-16T10:18:19.134523Z",
     "iopub.status.idle": "2025-01-16T10:18:19.247869Z",
     "shell.execute_reply": "2025-01-16T10:18:19.246857Z"
    },
    "papermill": {
     "duration": 0.123684,
     "end_time": "2025-01-16T10:18:19.249611",
     "exception": false,
     "start_time": "2025-01-16T10:18:19.125927",
     "status": "completed"
    },
    "tags": []
   },
   "outputs": [
    {
     "data": {
      "image/png": "[encoded data removed]",
      "text/plain": [
       "<Figure size 600x600 with 1 Axes>"
      ]
     },
     "metadata": {},
     "output_type": "display_data"
    }
   ],
   "source": [
    "plt.figure(figsize=(6,6))\n",
    "plt.pie(df['Patient Sex'].value_counts(), autopct=\"%0.1F%%\",\n",
    "       labels=['Male', 'Female'], shadow=True, explode=[0.2,0])\n",
    "plt.show()"
   ]
  },
  {
   "cell_type": "code",
   "execution_count": null,
   "id": "2b8384f2",
   "metadata": {
    "execution": {
     "iopub.execute_input": "2025-01-16T10:18:19.268204Z",
     "iopub.status.busy": "2025-01-16T10:18:19.267973Z",
     "iopub.status.idle": "2025-01-16T10:18:19.273324Z",
     "shell.execute_reply": "2025-01-16T10:18:19.272530Z"
    },
    "papermill": {
     "duration": 0.016242,
     "end_time": "2025-01-16T10:18:19.274657",
     "exception": false,
     "start_time": "2025-01-16T10:18:19.258415",
     "status": "completed"
    },
    "tags": []
   },
   "outputs": [
    {
     "data": {
      "text/plain": [
       "array([\"['N']\", \"['D']\", \"['O']\", \"['M']\", \"['H']\", \"['C']\", \"['A']\",\n",
       "       \"['G']\"], dtype=object)"
      ]
     },
     "execution_count": 16,
     "metadata": {},
     "output_type": "execute_result"
    }
   ],
   "source": [
    "real_values = [\"['N']\", \"['D']\", \"['O']\", \"['M']\", \"['H']\", \"['C']\", \"['A']\",\n",
    "       \"['G']\"]\n",
    "df['labels'].unique()"
   ]
  },
  {
   "cell_type": "code",
   "execution_count": null,
   "id": "e2836ce5",
   "metadata": {
    "execution": {
     "iopub.execute_input": "2025-01-16T10:18:19.294771Z",
     "iopub.status.busy": "2025-01-16T10:18:19.294505Z",
     "iopub.status.idle": "2025-01-16T10:18:19.299875Z",
     "shell.execute_reply": "2025-01-16T10:18:19.299018Z"
    },
    "papermill": {
     "duration": 0.01799,
     "end_time": "2025-01-16T10:18:19.301235",
     "exception": false,
     "start_time": "2025-01-16T10:18:19.283245",
     "status": "completed"
    },
    "tags": []
   },
   "outputs": [],
   "source": [
    "from sklearn.preprocessing import LabelEncoder   #coverts non numerical value to numerical\n",
    "encoder = LabelEncoder()\n",
    "df['labels'] = encoder.fit_transform(df['labels'])"
   ]
  },
  {
   "cell_type": "code",
   "execution_count": null,
   "id": "63163266",
   "metadata": {
    "execution": {
     "iopub.execute_input": "2025-01-16T10:18:19.319770Z",
     "iopub.status.busy": "2025-01-16T10:18:19.319499Z",
     "iopub.status.idle": "2025-01-16T10:18:19.325169Z",
     "shell.execute_reply": "2025-01-16T10:18:19.324590Z"
    },
    "papermill": {
     "duration": 0.016584,
     "end_time": "2025-01-16T10:18:19.326497",
     "exception": false,
     "start_time": "2025-01-16T10:18:19.309913",
     "status": "completed"
    },
    "tags": []
   },
   "outputs": [],
   "source": [
    "df['labels'] = df['labels'].astype(str)"
   ]
  },
  {
   "cell_type": "code",
   "execution_count": null,
   "id": "f57c4c92",
   "metadata": {
    "execution": {
     "iopub.execute_input": "2025-01-16T10:18:19.344841Z",
     "iopub.status.busy": "2025-01-16T10:18:19.344638Z",
     "iopub.status.idle": "2025-01-16T10:18:19.354853Z",
     "shell.execute_reply": "2025-01-16T10:18:19.354065Z"
    },
    "papermill": {
     "duration": 0.020811,
     "end_time": "2025-01-16T10:18:19.356011",
     "exception": false,
     "start_time": "2025-01-16T10:18:19.335200",
     "status": "completed"
    },
    "tags": []
   },
   "outputs": [
    {
     "data": {
      "text/html": [
       "<div>\n",
       "<style scoped>\n",
       "    .dataframe tbody tr th:only-of-type {\n",
       "        vertical-align: middle;\n",
       "    }\n",
       "\n",
       "    .dataframe tbody tr th {\n",
       "        vertical-align: top;\n",
       "    }\n",
       "\n",
       "    .dataframe thead th {\n",
       "        text-align: right;\n",
       "    }\n",
       "</style>\n",
       "<table border=\"1\" class=\"dataframe\">\n",
       "  <thead>\n",
       "    <tr style=\"text-align: right;\">\n",
       "      <th></th>\n",
       "      <th>image</th>\n",
       "      <th>target</th>\n",
       "    </tr>\n",
       "  </thead>\n",
       "  <tbody>\n",
       "    <tr>\n",
       "      <th>0</th>\n",
       "      <td>0_left.jpg</td>\n",
       "      <td>6</td>\n",
       "    </tr>\n",
       "    <tr>\n",
       "      <th>1</th>\n",
       "      <td>1_left.jpg</td>\n",
       "      <td>6</td>\n",
       "    </tr>\n",
       "    <tr>\n",
       "      <th>2</th>\n",
       "      <td>2_left.jpg</td>\n",
       "      <td>2</td>\n",
       "    </tr>\n",
       "    <tr>\n",
       "      <th>3</th>\n",
       "      <td>4_left.jpg</td>\n",
       "      <td>2</td>\n",
       "    </tr>\n",
       "    <tr>\n",
       "      <th>4</th>\n",
       "      <td>5_left.jpg</td>\n",
       "      <td>2</td>\n",
       "    </tr>\n",
       "    <tr>\n",
       "      <th>...</th>\n",
       "      <td>...</td>\n",
       "      <td>...</td>\n",
       "    </tr>\n",
       "    <tr>\n",
       "      <th>6387</th>\n",
       "      <td>4686_left.jpg</td>\n",
       "      <td>2</td>\n",
       "    </tr>\n",
       "    <tr>\n",
       "      <th>6388</th>\n",
       "      <td>4688_left.jpg</td>\n",
       "      <td>2</td>\n",
       "    </tr>\n",
       "    <tr>\n",
       "      <th>6389</th>\n",
       "      <td>4689_left.jpg</td>\n",
       "      <td>2</td>\n",
       "    </tr>\n",
       "    <tr>\n",
       "      <th>6390</th>\n",
       "      <td>4690_left.jpg</td>\n",
       "      <td>2</td>\n",
       "    </tr>\n",
       "    <tr>\n",
       "      <th>6391</th>\n",
       "      <td>4784_left.jpg</td>\n",
       "      <td>4</td>\n",
       "    </tr>\n",
       "  </tbody>\n",
       "</table>\n",
       "<p>6392 rows × 2 columns</p>\n",
       "</div>"
      ],
      "text/plain": [
       "              image target\n",
       "0        0_left.jpg      6\n",
       "1        1_left.jpg      6\n",
       "2        2_left.jpg      2\n",
       "3        4_left.jpg      2\n",
       "4        5_left.jpg      2\n",
       "...             ...    ...\n",
       "6387  4686_left.jpg      2\n",
       "6388  4688_left.jpg      2\n",
       "6389  4689_left.jpg      2\n",
       "6390  4690_left.jpg      2\n",
       "6391  4784_left.jpg      4\n",
       "\n",
       "[6392 rows x 2 columns]"
      ]
     },
     "execution_count": 19,
     "metadata": {},
     "output_type": "execute_result"
    }
   ],
   "source": [
    "left_images = df[['Left-Fundus','labels']]\n",
    "Right_images = df[['Right-Fundus', 'labels']]\n",
    "\n",
    "left_images.columns = ['image', 'target']\n",
    "Right_images.columns = ['image', 'target']\n",
    "\n",
    "left_images"
   ]
  },
  {
   "cell_type": "code",
   "execution_count": null,
   "id": "b602cac6",
   "metadata": {
    "execution": {
     "iopub.execute_input": "2025-01-16T10:18:19.374001Z",
     "iopub.status.busy": "2025-01-16T10:18:19.373808Z",
     "iopub.status.idle": "2025-01-16T10:18:19.384159Z",
     "shell.execute_reply": "2025-01-16T10:18:19.383538Z"
    },
    "papermill": {
     "duration": 0.020604,
     "end_time": "2025-01-16T10:18:19.385436",
     "exception": false,
     "start_time": "2025-01-16T10:18:19.364832",
     "status": "completed"
    },
    "tags": []
   },
   "outputs": [
    {
     "data": {
      "text/html": [
       "<div>\n",
       "<style scoped>\n",
       "    .dataframe tbody tr th:only-of-type {\n",
       "        vertical-align: middle;\n",
       "    }\n",
       "\n",
       "    .dataframe tbody tr th {\n",
       "        vertical-align: top;\n",
       "    }\n",
       "\n",
       "    .dataframe thead th {\n",
       "        text-align: right;\n",
       "    }\n",
       "</style>\n",
       "<table border=\"1\" class=\"dataframe\">\n",
       "  <thead>\n",
       "    <tr style=\"text-align: right;\">\n",
       "      <th></th>\n",
       "      <th>image</th>\n",
       "      <th>target</th>\n",
       "    </tr>\n",
       "  </thead>\n",
       "  <tbody>\n",
       "    <tr>\n",
       "      <th>0</th>\n",
       "      <td>0_left.jpg</td>\n",
       "      <td>6</td>\n",
       "    </tr>\n",
       "    <tr>\n",
       "      <th>1</th>\n",
       "      <td>1_left.jpg</td>\n",
       "      <td>6</td>\n",
       "    </tr>\n",
       "    <tr>\n",
       "      <th>2</th>\n",
       "      <td>2_left.jpg</td>\n",
       "      <td>2</td>\n",
       "    </tr>\n",
       "    <tr>\n",
       "      <th>3</th>\n",
       "      <td>4_left.jpg</td>\n",
       "      <td>2</td>\n",
       "    </tr>\n",
       "    <tr>\n",
       "      <th>4</th>\n",
       "      <td>5_left.jpg</td>\n",
       "      <td>2</td>\n",
       "    </tr>\n",
       "    <tr>\n",
       "      <th>...</th>\n",
       "      <td>...</td>\n",
       "      <td>...</td>\n",
       "    </tr>\n",
       "    <tr>\n",
       "      <th>6387</th>\n",
       "      <td>4686_right.jpg</td>\n",
       "      <td>2</td>\n",
       "    </tr>\n",
       "    <tr>\n",
       "      <th>6388</th>\n",
       "      <td>4688_right.jpg</td>\n",
       "      <td>2</td>\n",
       "    </tr>\n",
       "    <tr>\n",
       "      <th>6389</th>\n",
       "      <td>4689_right.jpg</td>\n",
       "      <td>2</td>\n",
       "    </tr>\n",
       "    <tr>\n",
       "      <th>6390</th>\n",
       "      <td>4690_right.jpg</td>\n",
       "      <td>2</td>\n",
       "    </tr>\n",
       "    <tr>\n",
       "      <th>6391</th>\n",
       "      <td>4784_right.jpg</td>\n",
       "      <td>4</td>\n",
       "    </tr>\n",
       "  </tbody>\n",
       "</table>\n",
       "<p>12784 rows × 2 columns</p>\n",
       "</div>"
      ],
      "text/plain": [
       "               image target\n",
       "0         0_left.jpg      6\n",
       "1         1_left.jpg      6\n",
       "2         2_left.jpg      2\n",
       "3         4_left.jpg      2\n",
       "4         5_left.jpg      2\n",
       "...              ...    ...\n",
       "6387  4686_right.jpg      2\n",
       "6388  4688_right.jpg      2\n",
       "6389  4689_right.jpg      2\n",
       "6390  4690_right.jpg      2\n",
       "6391  4784_right.jpg      4\n",
       "\n",
       "[12784 rows x 2 columns]"
      ]
     },
     "execution_count": 20,
     "metadata": {},
     "output_type": "execute_result"
    }
   ],
   "source": [
    "combined_df = pd.concat([left_images, Right_images])\n",
    "combined_df = combined_df.dropna(subset='image')\n",
    "combined_df"
   ]
  },
  {
   "cell_type": "code",
   "execution_count": null,
   "id": "d66a19cc",
   "metadata": {
    "execution": {
     "iopub.execute_input": "2025-01-16T10:18:19.404378Z",
     "iopub.status.busy": "2025-01-16T10:18:19.404158Z",
     "iopub.status.idle": "2025-01-16T10:18:19.413793Z",
     "shell.execute_reply": "2025-01-16T10:18:19.413161Z"
    },
    "papermill": {
     "duration": 0.020201,
     "end_time": "2025-01-16T10:18:19.414989",
     "exception": false,
     "start_time": "2025-01-16T10:18:19.394788",
     "status": "completed"
    },
    "tags": []
   },
   "outputs": [
    {
     "data": {
      "text/html": [
       "<div>\n",
       "<style scoped>\n",
       "    .dataframe tbody tr th:only-of-type {\n",
       "        vertical-align: middle;\n",
       "    }\n",
       "\n",
       "    .dataframe tbody tr th {\n",
       "        vertical-align: top;\n",
       "    }\n",
       "\n",
       "    .dataframe thead th {\n",
       "        text-align: right;\n",
       "    }\n",
       "</style>\n",
       "<table border=\"1\" class=\"dataframe\">\n",
       "  <thead>\n",
       "    <tr style=\"text-align: right;\">\n",
       "      <th></th>\n",
       "      <th>image</th>\n",
       "      <th>target</th>\n",
       "    </tr>\n",
       "  </thead>\n",
       "  <tbody>\n",
       "    <tr>\n",
       "      <th>5328</th>\n",
       "      <td>3007_right.jpg</td>\n",
       "      <td>6</td>\n",
       "    </tr>\n",
       "    <tr>\n",
       "      <th>108</th>\n",
       "      <td>128_right.jpg</td>\n",
       "      <td>7</td>\n",
       "    </tr>\n",
       "    <tr>\n",
       "      <th>4023</th>\n",
       "      <td>950_left.jpg</td>\n",
       "      <td>6</td>\n",
       "    </tr>\n",
       "    <tr>\n",
       "      <th>3189</th>\n",
       "      <td>4686_right.jpg</td>\n",
       "      <td>2</td>\n",
       "    </tr>\n",
       "    <tr>\n",
       "      <th>1494</th>\n",
       "      <td>2231_right.jpg</td>\n",
       "      <td>1</td>\n",
       "    </tr>\n",
       "  </tbody>\n",
       "</table>\n",
       "</div>"
      ],
      "text/plain": [
       "               image target\n",
       "5328  3007_right.jpg      6\n",
       "108    128_right.jpg      7\n",
       "4023    950_left.jpg      6\n",
       "3189  4686_right.jpg      2\n",
       "1494  2231_right.jpg      1"
      ]
     },
     "execution_count": 21,
     "metadata": {},
     "output_type": "execute_result"
    }
   ],
   "source": [
    "train_df,test_df = train_test_split(combined_df, test_size=0.2, random_state=42)\n",
    "train_df.head()"
   ]
  },
  {
   "cell_type": "code",
   "execution_count": null,
   "id": "ea799a04",
   "metadata": {
    "execution": {
     "iopub.execute_input": "2025-01-16T10:18:19.434005Z",
     "iopub.status.busy": "2025-01-16T10:18:19.433810Z",
     "iopub.status.idle": "2025-01-16T10:18:19.436573Z",
     "shell.execute_reply": "2025-01-16T10:18:19.435994Z"
    },
    "papermill": {
     "duration": 0.013671,
     "end_time": "2025-01-16T10:18:19.437803",
     "exception": false,
     "start_time": "2025-01-16T10:18:19.424132",
     "status": "completed"
    },
    "tags": []
   },
   "outputs": [],
   "source": [
    "datagen = ImageDataGenerator(rescale = 1./255)"
   ]
  },
  {
   "cell_type": "code",
   "execution_count": null,
   "id": "16094bfb",
   "metadata": {
    "execution": {
     "iopub.execute_input": "2025-01-16T10:18:19.456811Z",
     "iopub.status.busy": "2025-01-16T10:18:19.456583Z",
     "iopub.status.idle": "2025-01-16T10:18:48.612000Z",
     "shell.execute_reply": "2025-01-16T10:18:48.610936Z"
    },
    "papermill": {
     "duration": 29.166402,
     "end_time": "2025-01-16T10:18:48.613317",
     "exception": false,
     "start_time": "2025-01-16T10:18:19.446915",
     "status": "completed"
    },
    "tags": []
   },
   "outputs": [
    {
     "name": "stdout",
     "output_type": "stream",
     "text": [
      "Found 10227 validated image filenames belonging to 8 classes.\n"
     ]
    }
   ],
   "source": [
    "train_generator = datagen.flow_from_dataframe(\n",
    "    dataframe = train_df,\n",
    "    directory = '/kaggle/input/ocular-disease-recognition-odir5k/ODIR-5K/ODIR-5K/Training Images',\n",
    "    x_col = 'image',\n",
    "    y_col = 'target',\n",
    "    subest = 'training',\n",
    "    class_mode = 'categorical',\n",
    "    target_size = (224,224),\n",
    "    batch_size = 16\n",
    ")"
   ]
  },
  {
   "cell_type": "code",
   "execution_count": null,
   "id": "db7cf1c6",
   "metadata": {
    "execution": {
     "iopub.execute_input": "2025-01-16T10:18:48.633102Z",
     "iopub.status.busy": "2025-01-16T10:18:48.632851Z",
     "iopub.status.idle": "2025-01-16T10:18:51.088931Z",
     "shell.execute_reply": "2025-01-16T10:18:51.088071Z"
    },
    "papermill": {
     "duration": 2.467123,
     "end_time": "2025-01-16T10:18:51.090230",
     "exception": false,
     "start_time": "2025-01-16T10:18:48.623107",
     "status": "completed"
    },
    "tags": []
   },
   "outputs": [
    {
     "name": "stdout",
     "output_type": "stream",
     "text": [
      "Found 2557 validated image filenames belonging to 8 classes.\n"
     ]
    }
   ],
   "source": [
    "validation_generator = datagen.flow_from_dataframe(\n",
    "    dataframe = test_df,\n",
    "    directory = '/kaggle/input/ocular-disease-recognition-odir5k/ODIR-5K/ODIR-5K/Training Images',\n",
    "    x_col = 'image',\n",
    "    y_col = 'target',\n",
    "    class_mode = 'categorical',\n",
    "    target_size = (224,224),\n",
    "    batch_size = 32\n",
    ")"
   ]
  },
  {
   "cell_type": "markdown",
   "id": "b0254925",
   "metadata": {
    "papermill": {
     "duration": 0.008893,
     "end_time": "2025-01-16T10:18:51.108962",
     "exception": false,
     "start_time": "2025-01-16T10:18:51.100069",
     "status": "completed"
    },
    "tags": []
   },
   "source": [
    "!pip install -U efficientnet          \n",
    "\n",
    "**installed efficientnet locally because the kernel was not able to import efficientnet from tensorflow.keras.applications**"
   ]
  },
  {
   "cell_type": "code",
   "execution_count": null,
   "id": "0413bbb1",
   "metadata": {
    "execution": {
     "iopub.execute_input": "2025-01-16T10:18:51.128275Z",
     "iopub.status.busy": "2025-01-16T10:18:51.128021Z",
     "iopub.status.idle": "2025-01-16T10:18:59.255323Z",
     "shell.execute_reply": "2025-01-16T10:18:59.254664Z"
    },
    "papermill": {
     "duration": 8.138876,
     "end_time": "2025-01-16T10:18:59.256938",
     "exception": false,
     "start_time": "2025-01-16T10:18:51.118062",
     "status": "completed"
    },
    "tags": []
   },
   "outputs": [
    {
     "name": "stdout",
     "output_type": "stream",
     "text": [
      "Downloading data from https://storage.googleapis.com/tensorflow/keras-applications/inception_v3/inception_v3_weights_tf_dim_ordering_tf_kernels_notop.h5\n",
      "\u001b[1m87910968/87910968\u001b[0m \u001b[32m━━━━━━━━━━━━━━━━━━━━\u001b[0m\u001b[37m\u001b[0m \u001b[1m5s\u001b[0m 0us/step\n"
     ]
    }
   ],
   "source": [
    "input_layer = Input(shape=(224,224,3))        #edit this cell\n",
    "\n",
    "inceptionv3 = InceptionV3(weights='imagenet', include_top=False)(input_layer)\n",
    "gop = GlobalAveragePooling2D()(inceptionv3)\n",
    "                                                                       \n",
    "\n",
    "dense1 = Dense(512, activation='relu')(gop)    #why 4 dense layers and why relu activation\n",
    "dense2 = Dense(256, activation='relu')(dense1)\n",
    "dense3 = Dense(128, activation='relu')(dense2)\n",
    "dense4 = Dense(64, activation='relu')(dense3)\n",
    "\n",
    "output_layer = Dense(8, activation='softmax')(dense4)  #visualize this and why softmax here?\n",
    "\n",
    "model = Model(inputs = input_layer, outputs = output_layer)"
   ]
  },
  {
   "cell_type": "code",
   "execution_count": null,
   "id": "af675d35",
   "metadata": {
    "execution": {
     "iopub.execute_input": "2025-01-16T10:18:59.284738Z",
     "iopub.status.busy": "2025-01-16T10:18:59.284461Z",
     "iopub.status.idle": "2025-01-16T10:18:59.322256Z",
     "shell.execute_reply": "2025-01-16T10:18:59.321337Z"
    },
    "papermill": {
     "duration": 0.053012,
     "end_time": "2025-01-16T10:18:59.323657",
     "exception": false,
     "start_time": "2025-01-16T10:18:59.270645",
     "status": "completed"
    },
    "tags": []
   },
   "outputs": [
    {
     "data": {
      "text/html": [
       "<pre style=\"white-space:pre;overflow-x:auto;line-height:normal;font-family:Menlo,'DejaVu Sans Mono',consolas,'Courier New',monospace\"><span style=\"font-weight: bold\">Model: \"functional\"</span>\n",
       "</pre>\n"
      ],
      "text/plain": [
       "\u001b[1mModel: \"functional\"\u001b[0m\n"
      ]
     },
     "metadata": {},
     "output_type": "display_data"
    },
    {
     "data": {
      "text/html": [
       "<pre style=\"white-space:pre;overflow-x:auto;line-height:normal;font-family:Menlo,'DejaVu Sans Mono',consolas,'Courier New',monospace\">┏━━━━━━━━━━━━━━━━━━━━━━━━━━━━━━━━━━━━━━┳━━━━━━━━━━━━━━━━━━━━━━━━━━━━━┳━━━━━━━━━━━━━━━━━┓\n",
       "┃<span style=\"font-weight: bold\"> Layer (type)                         </span>┃<span style=\"font-weight: bold\"> Output Shape                </span>┃<span style=\"font-weight: bold\">         Param # </span>┃\n",
       "┡━━━━━━━━━━━━━━━━━━━━━━━━━━━━━━━━━━━━━━╇━━━━━━━━━━━━━━━━━━━━━━━━━━━━━╇━━━━━━━━━━━━━━━━━┩\n",
       "│ input_layer (<span style=\"color: #0087ff; text-decoration-color: #0087ff\">InputLayer</span>)             │ (<span style=\"color: #00d7ff; text-decoration-color: #00d7ff\">None</span>, <span style=\"color: #00af00; text-decoration-color: #00af00\">224</span>, <span style=\"color: #00af00; text-decoration-color: #00af00\">224</span>, <span style=\"color: #00af00; text-decoration-color: #00af00\">3</span>)         │               <span style=\"color: #00af00; text-decoration-color: #00af00\">0</span> │\n",
       "├──────────────────────────────────────┼─────────────────────────────┼─────────────────┤\n",
       "│ inception_v3 (<span style=\"color: #0087ff; text-decoration-color: #0087ff\">Functional</span>)            │ (<span style=\"color: #00d7ff; text-decoration-color: #00d7ff\">None</span>, <span style=\"color: #00af00; text-decoration-color: #00af00\">5</span>, <span style=\"color: #00af00; text-decoration-color: #00af00\">5</span>, <span style=\"color: #00af00; text-decoration-color: #00af00\">2048</span>)          │      <span style=\"color: #00af00; text-decoration-color: #00af00\">21,802,784</span> │\n",
       "├──────────────────────────────────────┼─────────────────────────────┼─────────────────┤\n",
       "│ global_average_pooling2d             │ (<span style=\"color: #00d7ff; text-decoration-color: #00d7ff\">None</span>, <span style=\"color: #00af00; text-decoration-color: #00af00\">2048</span>)                │               <span style=\"color: #00af00; text-decoration-color: #00af00\">0</span> │\n",
       "│ (<span style=\"color: #0087ff; text-decoration-color: #0087ff\">GlobalAveragePooling2D</span>)             │                             │                 │\n",
       "├──────────────────────────────────────┼─────────────────────────────┼─────────────────┤\n",
       "│ dense (<span style=\"color: #0087ff; text-decoration-color: #0087ff\">Dense</span>)                        │ (<span style=\"color: #00d7ff; text-decoration-color: #00d7ff\">None</span>, <span style=\"color: #00af00; text-decoration-color: #00af00\">512</span>)                 │       <span style=\"color: #00af00; text-decoration-color: #00af00\">1,049,088</span> │\n",
       "├──────────────────────────────────────┼─────────────────────────────┼─────────────────┤\n",
       "│ dense_1 (<span style=\"color: #0087ff; text-decoration-color: #0087ff\">Dense</span>)                      │ (<span style=\"color: #00d7ff; text-decoration-color: #00d7ff\">None</span>, <span style=\"color: #00af00; text-decoration-color: #00af00\">256</span>)                 │         <span style=\"color: #00af00; text-decoration-color: #00af00\">131,328</span> │\n",
       "├──────────────────────────────────────┼─────────────────────────────┼─────────────────┤\n",
       "│ dense_2 (<span style=\"color: #0087ff; text-decoration-color: #0087ff\">Dense</span>)                      │ (<span style=\"color: #00d7ff; text-decoration-color: #00d7ff\">None</span>, <span style=\"color: #00af00; text-decoration-color: #00af00\">128</span>)                 │          <span style=\"color: #00af00; text-decoration-color: #00af00\">32,896</span> │\n",
       "├──────────────────────────────────────┼─────────────────────────────┼─────────────────┤\n",
       "│ dense_3 (<span style=\"color: #0087ff; text-decoration-color: #0087ff\">Dense</span>)                      │ (<span style=\"color: #00d7ff; text-decoration-color: #00d7ff\">None</span>, <span style=\"color: #00af00; text-decoration-color: #00af00\">64</span>)                  │           <span style=\"color: #00af00; text-decoration-color: #00af00\">8,256</span> │\n",
       "├──────────────────────────────────────┼─────────────────────────────┼─────────────────┤\n",
       "│ dense_4 (<span style=\"color: #0087ff; text-decoration-color: #0087ff\">Dense</span>)                      │ (<span style=\"color: #00d7ff; text-decoration-color: #00d7ff\">None</span>, <span style=\"color: #00af00; text-decoration-color: #00af00\">8</span>)                   │             <span style=\"color: #00af00; text-decoration-color: #00af00\">520</span> │\n",
       "└──────────────────────────────────────┴─────────────────────────────┴─────────────────┘\n",
       "</pre>\n"
      ],
      "text/plain": [
       "┏━━━━━━━━━━━━━━━━━━━━━━━━━━━━━━━━━━━━━━┳━━━━━━━━━━━━━━━━━━━━━━━━━━━━━┳━━━━━━━━━━━━━━━━━┓\n",
       "┃\u001b[1m \u001b[0m\u001b[1mLayer (type)                        \u001b[0m\u001b[1m \u001b[0m┃\u001b[1m \u001b[0m\u001b[1mOutput Shape               \u001b[0m\u001b[1m \u001b[0m┃\u001b[1m \u001b[0m\u001b[1m        Param #\u001b[0m\u001b[1m \u001b[0m┃\n",
       "┡━━━━━━━━━━━━━━━━━━━━━━━━━━━━━━━━━━━━━━╇━━━━━━━━━━━━━━━━━━━━━━━━━━━━━╇━━━━━━━━━━━━━━━━━┩\n",
       "│ input_layer (\u001b[38;5;33mInputLayer\u001b[0m)             │ (\u001b[38;5;45mNone\u001b[0m, \u001b[38;5;34m224\u001b[0m, \u001b[38;5;34m224\u001b[0m, \u001b[38;5;34m3\u001b[0m)         │               \u001b[38;5;34m0\u001b[0m │\n",
       "├──────────────────────────────────────┼─────────────────────────────┼─────────────────┤\n",
       "│ inception_v3 (\u001b[38;5;33mFunctional\u001b[0m)            │ (\u001b[38;5;45mNone\u001b[0m, \u001b[38;5;34m5\u001b[0m, \u001b[38;5;34m5\u001b[0m, \u001b[38;5;34m2048\u001b[0m)          │      \u001b[38;5;34m21,802,784\u001b[0m │\n",
       "├──────────────────────────────────────┼─────────────────────────────┼─────────────────┤\n",
       "│ global_average_pooling2d             │ (\u001b[38;5;45mNone\u001b[0m, \u001b[38;5;34m2048\u001b[0m)                │               \u001b[38;5;34m0\u001b[0m │\n",
       "│ (\u001b[38;5;33mGlobalAveragePooling2D\u001b[0m)             │                             │                 │\n",
       "├──────────────────────────────────────┼─────────────────────────────┼─────────────────┤\n",
       "│ dense (\u001b[38;5;33mDense\u001b[0m)                        │ (\u001b[38;5;45mNone\u001b[0m, \u001b[38;5;34m512\u001b[0m)                 │       \u001b[38;5;34m1,049,088\u001b[0m │\n",
       "├──────────────────────────────────────┼─────────────────────────────┼─────────────────┤\n",
       "│ dense_1 (\u001b[38;5;33mDense\u001b[0m)                      │ (\u001b[38;5;45mNone\u001b[0m, \u001b[38;5;34m256\u001b[0m)                 │         \u001b[38;5;34m131,328\u001b[0m │\n",
       "├──────────────────────────────────────┼─────────────────────────────┼─────────────────┤\n",
       "│ dense_2 (\u001b[38;5;33mDense\u001b[0m)                      │ (\u001b[38;5;45mNone\u001b[0m, \u001b[38;5;34m128\u001b[0m)                 │          \u001b[38;5;34m32,896\u001b[0m │\n",
       "├──────────────────────────────────────┼─────────────────────────────┼─────────────────┤\n",
       "│ dense_3 (\u001b[38;5;33mDense\u001b[0m)                      │ (\u001b[38;5;45mNone\u001b[0m, \u001b[38;5;34m64\u001b[0m)                  │           \u001b[38;5;34m8,256\u001b[0m │\n",
       "├──────────────────────────────────────┼─────────────────────────────┼─────────────────┤\n",
       "│ dense_4 (\u001b[38;5;33mDense\u001b[0m)                      │ (\u001b[38;5;45mNone\u001b[0m, \u001b[38;5;34m8\u001b[0m)                   │             \u001b[38;5;34m520\u001b[0m │\n",
       "└──────────────────────────────────────┴─────────────────────────────┴─────────────────┘\n"
      ]
     },
     "metadata": {},
     "output_type": "display_data"
    },
    {
     "data": {
      "text/html": [
       "<pre style=\"white-space:pre;overflow-x:auto;line-height:normal;font-family:Menlo,'DejaVu Sans Mono',consolas,'Courier New',monospace\"><span style=\"font-weight: bold\"> Total params: </span><span style=\"color: #00af00; text-decoration-color: #00af00\">23,024,872</span> (87.83 MB)\n",
       "</pre>\n"
      ],
      "text/plain": [
       "\u001b[1m Total params: \u001b[0m\u001b[38;5;34m23,024,872\u001b[0m (87.83 MB)\n"
      ]
     },
     "metadata": {},
     "output_type": "display_data"
    },
    {
     "data": {
      "text/html": [
       "<pre style=\"white-space:pre;overflow-x:auto;line-height:normal;font-family:Menlo,'DejaVu Sans Mono',consolas,'Courier New',monospace\"><span style=\"font-weight: bold\"> Trainable params: </span><span style=\"color: #00af00; text-decoration-color: #00af00\">22,990,440</span> (87.70 MB)\n",
       "</pre>\n"
      ],
      "text/plain": [
       "\u001b[1m Trainable params: \u001b[0m\u001b[38;5;34m22,990,440\u001b[0m (87.70 MB)\n"
      ]
     },
     "metadata": {},
     "output_type": "display_data"
    },
    {
     "data": {
      "text/html": [
       "<pre style=\"white-space:pre;overflow-x:auto;line-height:normal;font-family:Menlo,'DejaVu Sans Mono',consolas,'Courier New',monospace\"><span style=\"font-weight: bold\"> Non-trainable params: </span><span style=\"color: #00af00; text-decoration-color: #00af00\">34,432</span> (134.50 KB)\n",
       "</pre>\n"
      ],
      "text/plain": [
       "\u001b[1m Non-trainable params: \u001b[0m\u001b[38;5;34m34,432\u001b[0m (134.50 KB)\n"
      ]
     },
     "metadata": {},
     "output_type": "display_data"
    }
   ],
   "source": [
    "model.compile(optimizer= Adam(learning_rate=0.0001),                 #understand everthing from this\n",
    "             loss='categorical_crossentropy',\n",
    "             metrics=[\n",
    "                 Recall(name=\"recall\"),\n",
    "                 Precision(name=\"Precision\"),\n",
    "                 \"accuracy\"\n",
    "             ])\n",
    "model.summary()"
   ]
  },
  {
   "cell_type": "code",
   "execution_count": null,
   "id": "caadb121",
   "metadata": {
    "execution": {
     "iopub.execute_input": "2025-01-16T10:18:59.351138Z",
     "iopub.status.busy": "2025-01-16T10:18:59.350929Z",
     "iopub.status.idle": "2025-01-16T10:18:59.354309Z",
     "shell.execute_reply": "2025-01-16T10:18:59.353688Z"
    },
    "papermill": {
     "duration": 0.018471,
     "end_time": "2025-01-16T10:18:59.355596",
     "exception": false,
     "start_time": "2025-01-16T10:18:59.337125",
     "status": "completed"
    },
    "tags": []
   },
   "outputs": [],
   "source": [
    "early_stopping = EarlyStopping(monitor='val_loss', patience=5, mode='min', verbose=1)"
   ]
  },
  {
   "cell_type": "code",
   "execution_count": null,
   "id": "d9eebccf",
   "metadata": {
    "execution": {
     "iopub.execute_input": "2025-01-16T10:18:59.383354Z",
     "iopub.status.busy": "2025-01-16T10:18:59.383144Z",
     "iopub.status.idle": "2025-01-16T11:38:13.442640Z",
     "shell.execute_reply": "2025-01-16T11:38:13.441739Z"
    },
    "papermill": {
     "duration": 4754.785987,
     "end_time": "2025-01-16T11:38:14.155171",
     "exception": false,
     "start_time": "2025-01-16T10:18:59.369184",
     "status": "completed"
    },
    "tags": []
   },
   "outputs": [
    {
     "name": "stdout",
     "output_type": "stream",
     "text": [
      "Epoch 1/20\n"
     ]
    },
    {
     "name": "stderr",
     "output_type": "stream",
     "text": [
      "/usr/local/lib/python3.10/dist-packages/keras/src/trainers/data_adapters/py_dataset_adapter.py:121: UserWarning: Your `PyDataset` class should call `super().__init__(**kwargs)` in its constructor. `**kwargs` can include `workers`, `use_multiprocessing`, `max_queue_size`. Do not pass these arguments to `fit()`, as they will be ignored.\n",
      "  self._warn_if_super_not_called()\n"
     ]
    },
    {
     "name": "stdout",
     "output_type": "stream",
     "text": [
      "\u001b[1m640/640\u001b[0m \u001b[32m━━━━━━━━━━━━━━━━━━━━\u001b[0m\u001b[37m\u001b[0m \u001b[1m414s\u001b[0m 526ms/step - Precision: 0.5498 - accuracy: 0.4717 - loss: 1.4585 - recall: 0.2078 - val_Precision: 0.6401 - val_accuracy: 0.5675 - val_loss: 1.1630 - val_recall: 0.4521\n",
      "Epoch 2/20\n",
      "\u001b[1m640/640\u001b[0m \u001b[32m━━━━━━━━━━━━━━━━━━━━\u001b[0m\u001b[37m\u001b[0m \u001b[1m221s\u001b[0m 342ms/step - Precision: 0.6654 - accuracy: 0.5886 - loss: 1.1052 - recall: 0.4547 - val_Precision: 0.6402 - val_accuracy: 0.5765 - val_loss: 1.1272 - val_recall: 0.4822\n",
      "Epoch 3/20\n",
      "\u001b[1m640/640\u001b[0m \u001b[32m━━━━━━━━━━━━━━━━━━━━\u001b[0m\u001b[37m\u001b[0m \u001b[1m229s\u001b[0m 354ms/step - Precision: 0.7383 - accuracy: 0.6661 - loss: 0.9239 - recall: 0.5734 - val_Precision: 0.6588 - val_accuracy: 0.6140 - val_loss: 1.1025 - val_recall: 0.5565\n",
      "Epoch 4/20\n",
      "\u001b[1m640/640\u001b[0m \u001b[32m━━━━━━━━━━━━━━━━━━━━\u001b[0m\u001b[37m\u001b[0m \u001b[1m223s\u001b[0m 345ms/step - Precision: 0.7653 - accuracy: 0.7118 - loss: 0.7953 - recall: 0.6405 - val_Precision: 0.6983 - val_accuracy: 0.6445 - val_loss: 1.0564 - val_recall: 0.5722\n",
      "Epoch 5/20\n",
      "\u001b[1m640/640\u001b[0m \u001b[32m━━━━━━━━━━━━━━━━━━━━\u001b[0m\u001b[37m\u001b[0m \u001b[1m222s\u001b[0m 344ms/step - Precision: 0.8034 - accuracy: 0.7586 - loss: 0.6566 - recall: 0.7069 - val_Precision: 0.6840 - val_accuracy: 0.6535 - val_loss: 1.0709 - val_recall: 0.6136\n",
      "Epoch 6/20\n",
      "\u001b[1m640/640\u001b[0m \u001b[32m━━━━━━━━━━━━━━━━━━━━\u001b[0m\u001b[37m\u001b[0m \u001b[1m226s\u001b[0m 349ms/step - Precision: 0.8270 - accuracy: 0.7905 - loss: 0.5811 - recall: 0.7505 - val_Precision: 0.7109 - val_accuracy: 0.6684 - val_loss: 1.0331 - val_recall: 0.6183\n",
      "Epoch 7/20\n",
      "\u001b[1m640/640\u001b[0m \u001b[32m━━━━━━━━━━━━━━━━━━━━\u001b[0m\u001b[37m\u001b[0m \u001b[1m229s\u001b[0m 355ms/step - Precision: 0.8439 - accuracy: 0.8164 - loss: 0.4986 - recall: 0.7817 - val_Precision: 0.7075 - val_accuracy: 0.6852 - val_loss: 1.0888 - val_recall: 0.6594\n",
      "Epoch 8/20\n",
      "\u001b[1m640/640\u001b[0m \u001b[32m━━━━━━━━━━━━━━━━━━━━\u001b[0m\u001b[37m\u001b[0m \u001b[1m223s\u001b[0m 344ms/step - Precision: 0.8478 - accuracy: 0.8270 - loss: 0.4575 - recall: 0.8005 - val_Precision: 0.7107 - val_accuracy: 0.6785 - val_loss: 1.1752 - val_recall: 0.6379\n",
      "Epoch 9/20\n",
      "\u001b[1m640/640\u001b[0m \u001b[32m━━━━━━━━━━━━━━━━━━━━\u001b[0m\u001b[37m\u001b[0m \u001b[1m234s\u001b[0m 362ms/step - Precision: 0.8502 - accuracy: 0.8305 - loss: 0.4281 - recall: 0.8036 - val_Precision: 0.6648 - val_accuracy: 0.6441 - val_loss: 1.2148 - val_recall: 0.6097\n",
      "Epoch 10/20\n",
      "\u001b[1m640/640\u001b[0m \u001b[32m━━━━━━━━━━━━━━━━━━━━\u001b[0m\u001b[37m\u001b[0m \u001b[1m223s\u001b[0m 346ms/step - Precision: 0.8502 - accuracy: 0.8302 - loss: 0.4200 - recall: 0.8056 - val_Precision: 0.6967 - val_accuracy: 0.6875 - val_loss: 1.5447 - val_recall: 0.6781\n",
      "Epoch 11/20\n",
      "\u001b[1m640/640\u001b[0m \u001b[32m━━━━━━━━━━━━━━━━━━━━\u001b[0m\u001b[37m\u001b[0m \u001b[1m229s\u001b[0m 354ms/step - Precision: 0.8627 - accuracy: 0.8453 - loss: 0.3652 - recall: 0.8290 - val_Precision: 0.7163 - val_accuracy: 0.6965 - val_loss: 1.2851 - val_recall: 0.6734\n",
      "Epoch 12/20\n",
      "\u001b[1m640/640\u001b[0m \u001b[32m━━━━━━━━━━━━━━━━━━━━\u001b[0m\u001b[37m\u001b[0m \u001b[1m232s\u001b[0m 359ms/step - Precision: 0.8536 - accuracy: 0.8385 - loss: 0.3630 - recall: 0.8178 - val_Precision: 0.7009 - val_accuracy: 0.6664 - val_loss: 1.2479 - val_recall: 0.6277\n",
      "Epoch 13/20\n",
      "\u001b[1m640/640\u001b[0m \u001b[32m━━━━━━━━━━━━━━━━━━━━\u001b[0m\u001b[37m\u001b[0m \u001b[1m229s\u001b[0m 355ms/step - Precision: 0.8584 - accuracy: 0.8445 - loss: 0.3438 - recall: 0.8277 - val_Precision: 0.6690 - val_accuracy: 0.6645 - val_loss: 2.0224 - val_recall: 0.6625\n",
      "Epoch 14/20\n",
      "\u001b[1m640/640\u001b[0m \u001b[32m━━━━━━━━━━━━━━━━━━━━\u001b[0m\u001b[37m\u001b[0m \u001b[1m232s\u001b[0m 359ms/step - Precision: 0.8791 - accuracy: 0.8691 - loss: 0.2910 - recall: 0.8560 - val_Precision: 0.6895 - val_accuracy: 0.6813 - val_loss: 1.5102 - val_recall: 0.6652\n",
      "Epoch 15/20\n",
      "\u001b[1m640/640\u001b[0m \u001b[32m━━━━━━━━━━━━━━━━━━━━\u001b[0m\u001b[37m\u001b[0m \u001b[1m233s\u001b[0m 361ms/step - Precision: 0.8639 - accuracy: 0.8528 - loss: 0.3122 - recall: 0.8326 - val_Precision: 0.6778 - val_accuracy: 0.6668 - val_loss: 1.5636 - val_recall: 0.6574\n",
      "Epoch 16/20\n",
      "\u001b[1m640/640\u001b[0m \u001b[32m━━━━━━━━━━━━━━━━━━━━\u001b[0m\u001b[37m\u001b[0m \u001b[1m240s\u001b[0m 372ms/step - Precision: 0.8686 - accuracy: 0.8537 - loss: 0.3091 - recall: 0.8406 - val_Precision: 0.6608 - val_accuracy: 0.6531 - val_loss: 1.5892 - val_recall: 0.6422\n",
      "Epoch 17/20\n",
      "\u001b[1m640/640\u001b[0m \u001b[32m━━━━━━━━━━━━━━━━━━━━\u001b[0m\u001b[37m\u001b[0m \u001b[1m227s\u001b[0m 352ms/step - Precision: 0.8776 - accuracy: 0.8625 - loss: 0.2774 - recall: 0.8493 - val_Precision: 0.6955 - val_accuracy: 0.6903 - val_loss: 1.7321 - val_recall: 0.6824\n",
      "Epoch 18/20\n",
      "\u001b[1m640/640\u001b[0m \u001b[32m━━━━━━━━━━━━━━━━━━━━\u001b[0m\u001b[37m\u001b[0m \u001b[1m233s\u001b[0m 360ms/step - Precision: 0.8692 - accuracy: 0.8573 - loss: 0.2910 - recall: 0.8431 - val_Precision: 0.6833 - val_accuracy: 0.6805 - val_loss: 2.0960 - val_recall: 0.6785\n",
      "Epoch 19/20\n",
      "\u001b[1m640/640\u001b[0m \u001b[32m━━━━━━━━━━━━━━━━━━━━\u001b[0m\u001b[37m\u001b[0m \u001b[1m230s\u001b[0m 355ms/step - Precision: 0.8664 - accuracy: 0.8571 - loss: 0.2634 - recall: 0.8469 - val_Precision: 0.6825 - val_accuracy: 0.6719 - val_loss: 1.6262 - val_recall: 0.6625\n",
      "Epoch 20/20\n",
      "\u001b[1m640/640\u001b[0m \u001b[32m━━━━━━━━━━━━━━━━━━━━\u001b[0m\u001b[37m\u001b[0m \u001b[1m224s\u001b[0m 347ms/step - Precision: 0.8706 - accuracy: 0.8576 - loss: 0.2691 - recall: 0.8471 - val_Precision: 0.6891 - val_accuracy: 0.6860 - val_loss: 1.8440 - val_recall: 0.6805\n"
     ]
    }
   ],
   "source": [
    "# checkpoint_filepath = '/kaggle/working/checkpoint.weights.h5'    \n",
    "# model_checkpoint_callback = tf.keras.callbacks.ModelCheckpoint(\n",
    "#     filepath = checkpoint_filepath,\n",
    "#     save_weights_only = True,\n",
    "#     monitor = 'val_loss',\n",
    "#     mode='min',\n",
    "#     save_best_only=True)\n",
    "# )\n",
    "# history = model.fit(train_generator, epochs=10, validation_data=validation_data-generator, callbacks=[model_checkpoint_callback])\n",
    "# history = model.fit(train_generator, epochs=20, validation_data=validation_generator, callback = [early_stopping])\n",
    "\n",
    "history = model.fit(train_generator, epochs=20, validation_data=validation_generator)"
   ]
  },
  {
   "cell_type": "code",
   "execution_count": null,
   "id": "7103bcc0",
   "metadata": {
    "papermill": {
     "duration": 0.6925,
     "end_time": "2025-01-16T11:38:15.488602",
     "exception": false,
     "start_time": "2025-01-16T11:38:14.796102",
     "status": "completed"
    },
    "tags": []
   },
   "outputs": [
    {
     "ename": "NameError",
     "evalue": "name 'model' is not defined",
     "output_type": "error",
     "traceback": [
      "\u001b[0;31m---------------------------------------------------------------------------\u001b[0m",
      "\u001b[0;31mNameError\u001b[0m                                 Traceback (most recent call last)",
      "Cell \u001b[0;32mIn[1], line 1\u001b[0m\n\u001b[0;32m----> 1\u001b[0m \u001b[43mmodel\u001b[49m\u001b[38;5;241m.\u001b[39msave(\u001b[38;5;124m\"\u001b[39m\u001b[38;5;124mnetra-ai-model.h5\u001b[39m\u001b[38;5;124m\"\u001b[39m)\n",
      "\u001b[0;31mNameError\u001b[0m: name 'model' is not defined"
     ]
    }
   ],
   "source": [
    "model.save(\"netra-ai-model.h5\")"
   ]
  },
  {
   "cell_type": "code",
   "execution_count": null,
   "id": "3814a2cc",
   "metadata": {},
   "outputs": [],
   "source": []
  }
 ],
 "metadata": {
  "kaggle": {
   "accelerator": "nvidiaTeslaT4",
   "dataSources": [
    {
     "datasetId": 611716,
     "sourceId": 1512919,
     "sourceType": "datasetVersion"
    }
   ],
   "dockerImageVersionId": 30822,
   "isGpuEnabled": true,
   "isInternetEnabled": true,
   "language": "python",
   "sourceType": "notebook"
  },
  "kernelspec": {
   "display_name": "Python 3",
   "language": "python",
   "name": "python3"
  },
  "language_info": {
   "codemirror_mode": {
    "name": "ipython",
    "version": 3
   },
   "file_extension": ".py",
   "mimetype": "text/x-python",
   "name": "python",
   "nbconvert_exporter": "python",
   "pygments_lexer": "ipython3",
   "version": "3.9.6"
  },
  "papermill": {
   "default_parameters": {},
   "duration": 4814.426308,
   "end_time": "2025-01-16T11:38:19.805862",
   "environment_variables": {},
   "exception": null,
   "input_path": "__notebook__.ipynb",
   "output_path": "__notebook__.ipynb",
   "parameters": {},
   "start_time": "2025-01-16T10:18:05.379554",
   "version": "2.6.0"
  }
 },
 "nbformat": 4,
 "nbformat_minor": 5
}
